{
 "cells": [
  {
   "cell_type": "code",
   "execution_count": 1,
   "id": "3869852e-f12f-4ee6-9974-725e3ce9c4ed",
   "metadata": {},
   "outputs": [],
   "source": [
    "import pandas as pd"
   ]
  },
  {
   "cell_type": "code",
   "execution_count": 2,
   "id": "d9f54408-da4a-4fae-bee4-966b55a0128c",
   "metadata": {},
   "outputs": [],
   "source": [
    "drug_groups = pd.read_csv(\"drug_groups.csv\")"
   ]
  },
  {
   "cell_type": "code",
   "execution_count": 30,
   "id": "f3c87e01-2743-48d5-9afb-8a3a713233f6",
   "metadata": {},
   "outputs": [],
   "source": [
    "side_effects = pd.read_csv(\"side_effects.csv\")"
   ]
  },
  {
   "cell_type": "code",
   "execution_count": 31,
   "id": "99084373-2aa3-4ce0-a63b-9018d4097646",
   "metadata": {},
   "outputs": [],
   "source": [
    "side_effects.dropna(inplace=True)"
   ]
  },
  {
   "cell_type": "code",
   "execution_count": 5,
   "id": "92bc1e90-8db1-4b1f-97ca-c24574a4093e",
   "metadata": {},
   "outputs": [],
   "source": [
    "drug_groups_with_side_effects = pd.merge(drug_groups, side_effects, on=\"drug_name\")"
   ]
  },
  {
   "cell_type": "code",
   "execution_count": 6,
   "id": "37badc13-9429-45f2-a2f2-caefe24199c1",
   "metadata": {},
   "outputs": [
    {
     "data": {
      "text/html": [
       "<div>\n",
       "<style scoped>\n",
       "    .dataframe tbody tr th:only-of-type {\n",
       "        vertical-align: middle;\n",
       "    }\n",
       "\n",
       "    .dataframe tbody tr th {\n",
       "        vertical-align: top;\n",
       "    }\n",
       "\n",
       "    .dataframe thead th {\n",
       "        text-align: right;\n",
       "    }\n",
       "</style>\n",
       "<table border=\"1\" class=\"dataframe\">\n",
       "  <thead>\n",
       "    <tr style=\"text-align: right;\">\n",
       "      <th></th>\n",
       "      <th>drug_name</th>\n",
       "      <th>drug_group</th>\n",
       "      <th>side_effect</th>\n",
       "    </tr>\n",
       "  </thead>\n",
       "  <tbody>\n",
       "    <tr>\n",
       "      <th>0</th>\n",
       "      <td>aspirin</td>\n",
       "      <td>NSAID</td>\n",
       "      <td>Stomach pain, heartburn, nausea, or vomiting</td>\n",
       "    </tr>\n",
       "    <tr>\n",
       "      <th>1</th>\n",
       "      <td>ibuprofen</td>\n",
       "      <td>NSAID</td>\n",
       "      <td>Stomach pain, heartburn, nausea, swelling, or ...</td>\n",
       "    </tr>\n",
       "    <tr>\n",
       "      <th>2</th>\n",
       "      <td>propranolol</td>\n",
       "      <td>Beta Blocker</td>\n",
       "      <td>Dizziness, lightheadedness, or breathing problems</td>\n",
       "    </tr>\n",
       "  </tbody>\n",
       "</table>\n",
       "</div>"
      ],
      "text/plain": [
       "     drug_name    drug_group  \\\n",
       "0      aspirin         NSAID   \n",
       "1    ibuprofen         NSAID   \n",
       "2  propranolol  Beta Blocker   \n",
       "\n",
       "                                         side_effect  \n",
       "0       Stomach pain, heartburn, nausea, or vomiting  \n",
       "1  Stomach pain, heartburn, nausea, swelling, or ...  \n",
       "2  Dizziness, lightheadedness, or breathing problems  "
      ]
     },
     "execution_count": 6,
     "metadata": {},
     "output_type": "execute_result"
    }
   ],
   "source": [
    "drug_groups_with_side_effects"
   ]
  },
  {
   "cell_type": "code",
   "execution_count": 32,
   "id": "edfa0cea-9809-4221-8518-ee1b357951ed",
   "metadata": {},
   "outputs": [],
   "source": [
    "side_effects['side_effect'] = side_effects['side_effect'].str.lower()"
   ]
  },
  {
   "cell_type": "code",
   "execution_count": 33,
   "id": "e30db120-b9c7-4345-bdc4-60c1d7e8925a",
   "metadata": {},
   "outputs": [],
   "source": [
    "side_effects['side_effect'] = side_effects['side_effect'].str.split(', ')"
   ]
  },
  {
   "cell_type": "code",
   "execution_count": 34,
   "id": "66c28776-ef2a-451d-b759-f5a472973fbe",
   "metadata": {},
   "outputs": [
    {
     "data": {
      "text/html": [
       "<div>\n",
       "<style scoped>\n",
       "    .dataframe tbody tr th:only-of-type {\n",
       "        vertical-align: middle;\n",
       "    }\n",
       "\n",
       "    .dataframe tbody tr th {\n",
       "        vertical-align: top;\n",
       "    }\n",
       "\n",
       "    .dataframe thead th {\n",
       "        text-align: right;\n",
       "    }\n",
       "</style>\n",
       "<table border=\"1\" class=\"dataframe\">\n",
       "  <thead>\n",
       "    <tr style=\"text-align: right;\">\n",
       "      <th></th>\n",
       "      <th>drug_name</th>\n",
       "      <th>side_effect</th>\n",
       "    </tr>\n",
       "  </thead>\n",
       "  <tbody>\n",
       "    <tr>\n",
       "      <th>0</th>\n",
       "      <td>aspirin</td>\n",
       "      <td>[stomach pain, heartburn, nausea, vomiting]</td>\n",
       "    </tr>\n",
       "    <tr>\n",
       "      <th>1</th>\n",
       "      <td>ibuprofen</td>\n",
       "      <td>[swelling, stomach pain, heartburn, nausea, br...</td>\n",
       "    </tr>\n",
       "    <tr>\n",
       "      <th>3</th>\n",
       "      <td>propranolol</td>\n",
       "      <td>[dizziness, lightheadedness, breathing problems]</td>\n",
       "    </tr>\n",
       "  </tbody>\n",
       "</table>\n",
       "</div>"
      ],
      "text/plain": [
       "     drug_name                                        side_effect\n",
       "0      aspirin        [stomach pain, heartburn, nausea, vomiting]\n",
       "1    ibuprofen  [swelling, stomach pain, heartburn, nausea, br...\n",
       "3  propranolol   [dizziness, lightheadedness, breathing problems]"
      ]
     },
     "execution_count": 34,
     "metadata": {},
     "output_type": "execute_result"
    }
   ],
   "source": [
    "side_effects"
   ]
  },
  {
   "cell_type": "code",
   "execution_count": 35,
   "id": "9e822223-6599-4923-af2c-79cbf1574301",
   "metadata": {},
   "outputs": [],
   "source": [
    "side_effects = side_effects.explode('side_effect')"
   ]
  },
  {
   "cell_type": "code",
   "execution_count": 36,
   "id": "556eedbd-a4a7-4929-9f5c-ba3e1711d7a3",
   "metadata": {},
   "outputs": [],
   "source": [
    "side_effects['side_effect'] = side_effects['side_effect'].str.strip()"
   ]
  },
  {
   "cell_type": "code",
   "execution_count": 37,
   "id": "73aabe69-4b72-49db-a310-90cc84e5f623",
   "metadata": {},
   "outputs": [],
   "source": [
    "drug_groups_with_side_effects_advanced = pd.merge(drug_groups, side_effects, on=\"drug_name\")"
   ]
  },
  {
   "cell_type": "code",
   "execution_count": 38,
   "id": "3723b45d-61a5-4fab-b0ca-d9b62e072f75",
   "metadata": {},
   "outputs": [
    {
     "data": {
      "text/html": [
       "<div>\n",
       "<style scoped>\n",
       "    .dataframe tbody tr th:only-of-type {\n",
       "        vertical-align: middle;\n",
       "    }\n",
       "\n",
       "    .dataframe tbody tr th {\n",
       "        vertical-align: top;\n",
       "    }\n",
       "\n",
       "    .dataframe thead th {\n",
       "        text-align: right;\n",
       "    }\n",
       "</style>\n",
       "<table border=\"1\" class=\"dataframe\">\n",
       "  <thead>\n",
       "    <tr style=\"text-align: right;\">\n",
       "      <th></th>\n",
       "      <th>drug_name</th>\n",
       "      <th>drug_group</th>\n",
       "      <th>side_effect</th>\n",
       "    </tr>\n",
       "  </thead>\n",
       "  <tbody>\n",
       "    <tr>\n",
       "      <th>0</th>\n",
       "      <td>aspirin</td>\n",
       "      <td>NSAID</td>\n",
       "      <td>stomach pain</td>\n",
       "    </tr>\n",
       "    <tr>\n",
       "      <th>1</th>\n",
       "      <td>aspirin</td>\n",
       "      <td>NSAID</td>\n",
       "      <td>heartburn</td>\n",
       "    </tr>\n",
       "    <tr>\n",
       "      <th>2</th>\n",
       "      <td>aspirin</td>\n",
       "      <td>NSAID</td>\n",
       "      <td>nausea</td>\n",
       "    </tr>\n",
       "    <tr>\n",
       "      <th>3</th>\n",
       "      <td>aspirin</td>\n",
       "      <td>NSAID</td>\n",
       "      <td>vomiting</td>\n",
       "    </tr>\n",
       "    <tr>\n",
       "      <th>4</th>\n",
       "      <td>ibuprofen</td>\n",
       "      <td>NSAID</td>\n",
       "      <td>swelling</td>\n",
       "    </tr>\n",
       "    <tr>\n",
       "      <th>5</th>\n",
       "      <td>ibuprofen</td>\n",
       "      <td>NSAID</td>\n",
       "      <td>stomach pain</td>\n",
       "    </tr>\n",
       "    <tr>\n",
       "      <th>6</th>\n",
       "      <td>ibuprofen</td>\n",
       "      <td>NSAID</td>\n",
       "      <td>heartburn</td>\n",
       "    </tr>\n",
       "    <tr>\n",
       "      <th>7</th>\n",
       "      <td>ibuprofen</td>\n",
       "      <td>NSAID</td>\n",
       "      <td>nausea</td>\n",
       "    </tr>\n",
       "    <tr>\n",
       "      <th>8</th>\n",
       "      <td>ibuprofen</td>\n",
       "      <td>NSAID</td>\n",
       "      <td>breathing problems</td>\n",
       "    </tr>\n",
       "    <tr>\n",
       "      <th>9</th>\n",
       "      <td>propranolol</td>\n",
       "      <td>Beta Blocker</td>\n",
       "      <td>dizziness</td>\n",
       "    </tr>\n",
       "    <tr>\n",
       "      <th>10</th>\n",
       "      <td>propranolol</td>\n",
       "      <td>Beta Blocker</td>\n",
       "      <td>lightheadedness</td>\n",
       "    </tr>\n",
       "    <tr>\n",
       "      <th>11</th>\n",
       "      <td>propranolol</td>\n",
       "      <td>Beta Blocker</td>\n",
       "      <td>breathing problems</td>\n",
       "    </tr>\n",
       "  </tbody>\n",
       "</table>\n",
       "</div>"
      ],
      "text/plain": [
       "      drug_name    drug_group         side_effect\n",
       "0       aspirin         NSAID        stomach pain\n",
       "1       aspirin         NSAID           heartburn\n",
       "2       aspirin         NSAID              nausea\n",
       "3       aspirin         NSAID            vomiting\n",
       "4     ibuprofen         NSAID            swelling\n",
       "5     ibuprofen         NSAID        stomach pain\n",
       "6     ibuprofen         NSAID           heartburn\n",
       "7     ibuprofen         NSAID              nausea\n",
       "8     ibuprofen         NSAID  breathing problems\n",
       "9   propranolol  Beta Blocker           dizziness\n",
       "10  propranolol  Beta Blocker     lightheadedness\n",
       "11  propranolol  Beta Blocker  breathing problems"
      ]
     },
     "execution_count": 38,
     "metadata": {},
     "output_type": "execute_result"
    }
   ],
   "source": [
    "drug_groups_with_side_effects_advanced"
   ]
  },
  {
   "cell_type": "code",
   "execution_count": null,
   "id": "44cb29bc-1257-4f7c-acc8-c1dfa23b7d50",
   "metadata": {},
   "outputs": [],
   "source": []
  }
 ],
 "metadata": {
  "kernelspec": {
   "display_name": "Python 3 (ipykernel)",
   "language": "python",
   "name": "python3"
  },
  "language_info": {
   "codemirror_mode": {
    "name": "ipython",
    "version": 3
   },
   "file_extension": ".py",
   "mimetype": "text/x-python",
   "name": "python",
   "nbconvert_exporter": "python",
   "pygments_lexer": "ipython3",
   "version": "3.11.6"
  }
 },
 "nbformat": 4,
 "nbformat_minor": 5
}
