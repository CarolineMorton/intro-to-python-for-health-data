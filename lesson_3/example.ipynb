{
 "cells": [
  {
   "cell_type": "code",
   "execution_count": 2,
   "id": "e8f4e32b-ce2b-432f-b7e0-66fcb4ff4afa",
   "metadata": {},
   "outputs": [],
   "source": [
    "from answers import get_drug_group"
   ]
  },
  {
   "cell_type": "code",
   "execution_count": 3,
   "id": "e8b6ba50-07c3-4e03-9f39-501061ae5938",
   "metadata": {},
   "outputs": [
    {
     "data": {
      "text/plain": [
       "'Analgesic'"
      ]
     },
     "execution_count": 3,
     "metadata": {},
     "output_type": "execute_result"
    }
   ],
   "source": [
    "get_drug_group(\"paracetamol\")"
   ]
  },
  {
   "cell_type": "code",
   "execution_count": 4,
   "id": "51ac45a8-dd60-4824-8e59-016a283b4d6b",
   "metadata": {},
   "outputs": [],
   "source": [
    "def validate_input(user_input):\n",
    "    # type will always be a string. Should check is not a number. \n",
    "    if user_input != \"\" and user_input.isalpha() and user_input.strip() == user_input:\n",
    "        return user_input\n",
    "    else:\n",
    "        return None"
   ]
  },
  {
   "cell_type": "code",
   "execution_count": 5,
   "id": "1fe65479-a3a3-4707-8b71-bdbb2fff7a14",
   "metadata": {},
   "outputs": [],
   "source": [
    "def get_user_input(prompt_message):\n",
    "    user_input = input(prompt_message)\n",
    "    while validate_input(user_input) is None:\n",
    "        user_input = input(prompt_message)\n",
    "    return user_input"
   ]
  },
  {
   "cell_type": "code",
   "execution_count": null,
   "id": "af54aef3-513c-42b2-b2e5-1d888e2f0824",
   "metadata": {},
   "outputs": [],
   "source": []
  }
 ],
 "metadata": {
  "kernelspec": {
   "display_name": "Python 3 (ipykernel)",
   "language": "python",
   "name": "python3"
  },
  "language_info": {
   "codemirror_mode": {
    "name": "ipython",
    "version": 3
   },
   "file_extension": ".py",
   "mimetype": "text/x-python",
   "name": "python",
   "nbconvert_exporter": "python",
   "pygments_lexer": "ipython3",
   "version": "3.11.6"
  }
 },
 "nbformat": 4,
 "nbformat_minor": 5
}
