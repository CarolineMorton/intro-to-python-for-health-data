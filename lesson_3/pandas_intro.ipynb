{
 "cells": [
  {
   "cell_type": "code",
   "execution_count": 1,
   "id": "11151b49-2ea1-497f-9377-60fd01b27b2b",
   "metadata": {},
   "outputs": [],
   "source": [
    "import pandas as pd"
   ]
  },
  {
   "cell_type": "code",
   "execution_count": 2,
   "id": "cca57756-153f-4dbb-8e1c-882a65c5444b",
   "metadata": {},
   "outputs": [],
   "source": [
    "df = pd.read_csv(\"drug_groups.csv\")"
   ]
  },
  {
   "cell_type": "code",
   "execution_count": 3,
   "id": "5bf9c2f3-a384-400f-a307-66636cb31032",
   "metadata": {},
   "outputs": [
    {
     "data": {
      "text/html": [
       "<div>\n",
       "<style scoped>\n",
       "    .dataframe tbody tr th:only-of-type {\n",
       "        vertical-align: middle;\n",
       "    }\n",
       "\n",
       "    .dataframe tbody tr th {\n",
       "        vertical-align: top;\n",
       "    }\n",
       "\n",
       "    .dataframe thead th {\n",
       "        text-align: right;\n",
       "    }\n",
       "</style>\n",
       "<table border=\"1\" class=\"dataframe\">\n",
       "  <thead>\n",
       "    <tr style=\"text-align: right;\">\n",
       "      <th></th>\n",
       "      <th>drug_name</th>\n",
       "      <th>drug_group</th>\n",
       "    </tr>\n",
       "  </thead>\n",
       "  <tbody>\n",
       "    <tr>\n",
       "      <th>0</th>\n",
       "      <td>aspirin</td>\n",
       "      <td>NSAID</td>\n",
       "    </tr>\n",
       "    <tr>\n",
       "      <th>1</th>\n",
       "      <td>ibuprofen</td>\n",
       "      <td>NSAID</td>\n",
       "    </tr>\n",
       "    <tr>\n",
       "      <th>2</th>\n",
       "      <td>paracetamol</td>\n",
       "      <td>Analgesic</td>\n",
       "    </tr>\n",
       "    <tr>\n",
       "      <th>3</th>\n",
       "      <td>propranolol</td>\n",
       "      <td>Beta Blocker</td>\n",
       "    </tr>\n",
       "  </tbody>\n",
       "</table>\n",
       "</div>"
      ],
      "text/plain": [
       "     drug_name    drug_group\n",
       "0      aspirin         NSAID\n",
       "1    ibuprofen         NSAID\n",
       "2  paracetamol     Analgesic\n",
       "3  propranolol  Beta Blocker"
      ]
     },
     "execution_count": 3,
     "metadata": {},
     "output_type": "execute_result"
    }
   ],
   "source": [
    "df"
   ]
  },
  {
   "cell_type": "markdown",
   "id": "8150084b-af7e-443c-bb3a-cf60d2fb18ff",
   "metadata": {},
   "source": [
    "### Attributes"
   ]
  },
  {
   "cell_type": "code",
   "execution_count": 4,
   "id": "1aaa3965-c8a6-4ede-91ac-9f3878554230",
   "metadata": {},
   "outputs": [
    {
     "data": {
      "text/plain": [
       "Index(['drug_name', 'drug_group'], dtype='object')"
      ]
     },
     "execution_count": 4,
     "metadata": {},
     "output_type": "execute_result"
    }
   ],
   "source": [
    "df.columns"
   ]
  },
  {
   "cell_type": "code",
   "execution_count": 5,
   "id": "e0351db8-b0be-4b4b-8d62-7a2836be052a",
   "metadata": {},
   "outputs": [
    {
     "data": {
      "text/plain": [
       "(4, 2)"
      ]
     },
     "execution_count": 5,
     "metadata": {},
     "output_type": "execute_result"
    }
   ],
   "source": [
    "df.shape"
   ]
  },
  {
   "cell_type": "markdown",
   "id": "3bc33817-7614-41d7-8cc6-db6b7c52e294",
   "metadata": {},
   "source": [
    "### Methods"
   ]
  },
  {
   "cell_type": "code",
   "execution_count": 6,
   "id": "d4454712-2188-45ec-95cf-b6650a1ce62c",
   "metadata": {},
   "outputs": [],
   "source": [
    "my_dict = df.to_dict()"
   ]
  },
  {
   "cell_type": "code",
   "execution_count": 7,
   "id": "e72f7c8a-a89b-408a-ae86-9c8b80aebf0c",
   "metadata": {},
   "outputs": [
    {
     "data": {
      "text/plain": [
       "{'drug_name': {0: 'aspirin',\n",
       "  1: 'ibuprofen',\n",
       "  2: 'paracetamol',\n",
       "  3: 'propranolol'},\n",
       " 'drug_group': {0: 'NSAID', 1: 'NSAID', 2: 'Analgesic', 3: 'Beta Blocker'}}"
      ]
     },
     "execution_count": 7,
     "metadata": {},
     "output_type": "execute_result"
    }
   ],
   "source": [
    "my_dict"
   ]
  },
  {
   "cell_type": "code",
   "execution_count": 11,
   "id": "6bde9179-3b42-470d-9a34-6d2a3bb2c69c",
   "metadata": {},
   "outputs": [],
   "source": [
    "df.set_index(\"drug_name\", inplace=True)"
   ]
  },
  {
   "cell_type": "code",
   "execution_count": 12,
   "id": "c8c357cd-4ed8-4180-b6ec-6cbe803f918e",
   "metadata": {},
   "outputs": [],
   "source": [
    "my_dict = df.to_dict()"
   ]
  },
  {
   "cell_type": "code",
   "execution_count": 13,
   "id": "b674b39d-65a3-4158-a62f-ec381e520c83",
   "metadata": {},
   "outputs": [
    {
     "data": {
      "text/plain": [
       "{'drug_group': {'aspirin': 'NSAID',\n",
       "  'ibuprofen': 'NSAID',\n",
       "  'paracetamol': 'Analgesic',\n",
       "  'propranolol': 'Beta Blocker'}}"
      ]
     },
     "execution_count": 13,
     "metadata": {},
     "output_type": "execute_result"
    }
   ],
   "source": [
    "my_dict"
   ]
  },
  {
   "cell_type": "code",
   "execution_count": null,
   "id": "23e3d9fb-7b63-4d74-9dd9-d0b6ea42b70f",
   "metadata": {},
   "outputs": [],
   "source": []
  }
 ],
 "metadata": {
  "kernelspec": {
   "display_name": "Python 3 (ipykernel)",
   "language": "python",
   "name": "python3"
  },
  "language_info": {
   "codemirror_mode": {
    "name": "ipython",
    "version": 3
   },
   "file_extension": ".py",
   "mimetype": "text/x-python",
   "name": "python",
   "nbconvert_exporter": "python",
   "pygments_lexer": "ipython3",
   "version": "3.11.6"
  }
 },
 "nbformat": 4,
 "nbformat_minor": 5
}
